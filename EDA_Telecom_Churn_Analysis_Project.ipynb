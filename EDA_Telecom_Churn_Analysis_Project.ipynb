{
  "nbformat": 4,
  "nbformat_minor": 0,
  "metadata": {
    "colab": {
      "private_outputs": true,
      "provenance": [],
      "collapsed_sections": [
        "gIfDvo9L0UH2"
      ],
      "include_colab_link": true
    },
    "kernelspec": {
      "name": "python3",
      "display_name": "Python 3"
    },
    "language_info": {
      "name": "python"
    }
  },
  "cells": [
    {
      "cell_type": "markdown",
      "metadata": {
        "id": "view-in-github",
        "colab_type": "text"
      },
      "source": [
        "<a href=\"https://colab.research.google.com/github/Negiamit034/EDA-Telecom-Churn-Analysis-Project/blob/main/EDA_Telecom_Churn_Analysis_Project.ipynb\" target=\"_parent\"><img src=\"https://colab.research.google.com/assets/colab-badge.svg\" alt=\"Open In Colab\"/></a>"
      ]
    },
    {
      "cell_type": "markdown",
      "source": [
        "# **Project Name**    -**EDA Telecom Churn Analysis Project**\n",
        "\n"
      ],
      "metadata": {
        "id": "vncDsAP0Gaoa"
      }
    },
    {
      "cell_type": "markdown",
      "source": [
        "##### **Project Type**    - EDA\n",
        "##### **Contribution**    - Team\n",
        "##### **Ananda M**\n",
        "##### **Amit Negi**"
      ],
      "metadata": {
        "id": "beRrZCGUAJYm"
      }
    },
    {
      "cell_type": "markdown",
      "source": [
        "# **Project Summary -**"
      ],
      "metadata": {
        "id": "FJNUwmbgGyua"
      }
    },
    {
      "cell_type": "markdown",
      "source": [
        "The project involved analyzing a telecom customer churn dataset to gain insights and provide recommendations for reducing churn. The first step was to familiarize ourselves with the data by importing necessary libraries, loading the dataset, and examining its structure and information. The dataset consisted of 23 columns, including variables such as state, account length, international plan, voice mail plan, call durations, charges, customer service calls, and churn status.\n",
        "After understanding the dataset, the next step was to explore and understand the variables. Descriptive statistics were analyzed to get a sense of the distribution and range of values for each variable. Additionally, unique values were examined to identify any anomalies or patterns within the data.Data wrangling was performed to manipulate the dataset for further analysis. Column renaming was done to improve clarity, and new columns were created, such as cost per minute, to better understand price distributions across different states. The analysis of the dataset revealed several interesting insights. The account length distribution indicated that most customers had an account length between 90 and 105 days, with a noticeable drop in retention after 105 days. Certain states, including WV, MN, NY, VA, and WY, had higher account lengths, suggesting a correlation between state and customer loyalty. These states also had a larger customer base, indicating a strong customer presence.\n",
        "Furthermore, states with higher account lengths also had a higher number of customer service calls, implying that these states may be facing more issues requiring resolution. The relatively low churn rate of 16% indicated that the majority of customers had trust in the telecom company.The dataset also provided insights into the usage of international plans and voice mail plans. Around 10% of customers did not use the international plan, suggesting potential areas for improvement in international plan offerings. On the other hand, the data indicated that most customers made use of the voice mail plan, indicating its popularity among the user base.\n",
        "Correlation analysis revealed that the total day minutes, total day calls, and total day charges were highly correlated, indicating that customers tended to make more calls and have longer conversations during the day. Similar patterns were observed for evening and night durations and charges. Interestingly, the usage of international services did not exhibit a strong correlation with the presence of an international plan, suggesting that other factors might influence international usage.The distribution of customer service calls showed that the majority of customers made a low number of calls, but there were outliers who made significantly higher numbers of calls, possibly indicating more complex or unresolved issues.\n",
        "Overall, these insights provided valuable information for the telecom company to focus on improving international plans, addressing customer service concerns in specific states, and potentially enhancing the voice mail plan further. The findings also highlighted the importance of customer engagement during the day and the need to ensure excellent service and issue resolution.\n",
        "By utilizing these insights, the telecom company can develop strategies to reduce customer churn. This may include offering personalized discounts or incentives to at-risk customers, enhancing customer service quality and responsiveness, conducting regular customer surveys to gather feedback, implementing loyalty programs, providing additional value-added services, and adopting targeted marketing campaigns. Furthermore, data-driven approaches can be employed to identify early warning signs of potential churn and take proactive measures to retain customers.\n",
        "In conclusion, the project analysis of the telecom customer churn dataset provided valuable insights and recommendations for reducing churn. By understanding the customer behavior, preferences, and pain points, the telecom company can make informed decisions to enhance customer satisfaction, improve retention, and ultimately drive business growth."
      ],
      "metadata": {
        "id": "F6v_1wHtG2nS"
      }
    },
    {
      "cell_type": "markdown",
      "source": [
        "# **GitHub Link -**"
      ],
      "metadata": {
        "id": "w6K7xa23Elo4"
      }
    },
    {
      "cell_type": "markdown",
      "source": [
        "https://github.com/Negiamit034"
      ],
      "metadata": {
        "id": "h1o69JH3Eqqn"
      }
    },
    {
      "cell_type": "markdown",
      "source": [
        "# **Problem Statement**\n"
      ],
      "metadata": {
        "id": "yQaldy8SH6Dl"
      }
    },
    {
      "cell_type": "markdown",
      "source": [
        "**BUSINESS PROBLEM OVERVIEW**\n",
        "\n",
        "Customer churn prediction is extremely important for any business as it recognizes the clients who are likely to stop using their services.\n",
        "\n",
        "In the telecom industry, customers are able to choose from multiple service providers and actively switch from one operator to another. In this highly competitive market, the telecommunications industry experiences an average of 15-25% annual churn rate. Given the fact that it costs 5-10 times more to acquire a new customer than to retain an existing one, customer retention has now become even more important than customer acquisition.\n",
        "\n",
        "For many incumbent operators, retaining high profitable customers is the number one business goal. To reduce customer churn, telecom companies need to predict which customers are at high risk of churn. In this project, you will analyse customer-level data of a leading telecom firm, do exploratory data analysis to identify the main indicators why customers are leaving the company."
      ],
      "metadata": {
        "id": "DpeJGUA3kjGy"
      }
    },
    {
      "cell_type": "markdown",
      "source": [
        "#### **Define Your Business Objective?**"
      ],
      "metadata": {
        "id": "PH-0ReGfmX4f"
      }
    },
    {
      "cell_type": "markdown",
      "source": [
        "**Reducing Customer Churn Rate**"
      ],
      "metadata": {
        "id": "PhDvGCAqmjP1"
      }
    },
    {
      "cell_type": "markdown",
      "source": [
        "# **General Guidelines** : -  "
      ],
      "metadata": {
        "id": "mDgbUHAGgjLW"
      }
    },
    {
      "cell_type": "markdown",
      "source": [
        "1.   Well-structured, formatted, and commented code is required.\n",
        "2.   Exception Handling, Production Grade Code & Deployment Ready Code will be a plus. Those students will be awarded some additional credits.\n",
        "     \n",
        "     The additional credits will have advantages over other students during Star Student selection.\n",
        "       \n",
        "             [ Note: - Deployment Ready Code is defined as, the whole .ipynb notebook should be executable in one go\n",
        "                       without a single error logged. ]\n",
        "\n",
        "3.   Each and every logic should have proper comments.\n",
        "4. You may add as many number of charts you want. Make Sure for each and every chart the following format should be answered.\n",
        "        \n",
        "\n",
        "```\n",
        "# Chart visualization code\n",
        "```\n",
        "            \n",
        "\n",
        "*   Why did you pick the specific chart?\n",
        "*   What is/are the insight(s) found from the chart?\n",
        "* Will the gained insights help creating a positive business impact?\n",
        "Are there any insights that lead to negative growth? Justify with specific reason.\n",
        "\n",
        "5. You have to create at least 20 logical & meaningful charts having important insights.\n",
        "\n",
        "\n",
        "[ Hints : - Do the Vizualization in  a structured way while following \"UBM\" Rule.\n",
        "\n",
        "U - Univariate Analysis,\n",
        "\n",
        "B - Bivariate Analysis (Numerical - Categorical, Numerical - Numerical, Categorical - Categorical)\n",
        "\n",
        "M - Multivariate Analysis\n",
        " ]\n",
        "\n",
        "\n",
        "\n"
      ],
      "metadata": {
        "id": "ZrxVaUj-hHfC"
      }
    },
    {
      "cell_type": "markdown",
      "source": [
        "# ***Let's Begin !***"
      ],
      "metadata": {
        "id": "O_i_v8NEhb9l"
      }
    },
    {
      "cell_type": "markdown",
      "source": [
        "## ***1. Know Your Data***"
      ],
      "metadata": {
        "id": "HhfV-JJviCcP"
      }
    },
    {
      "cell_type": "markdown",
      "source": [
        "### Import Libraries"
      ],
      "metadata": {
        "id": "Y3lxredqlCYt"
      }
    },
    {
      "cell_type": "code",
      "source": [
        "import numpy as np\n",
        "import pandas as pd\n",
        "import matplotlib.pyplot as plt\n",
        "import seaborn as sns"
      ],
      "metadata": {
        "id": "M8Vqi-pPk-HR"
      },
      "execution_count": null,
      "outputs": []
    },
    {
      "cell_type": "markdown",
      "source": [
        "### Dataset Loading"
      ],
      "metadata": {
        "id": "3RnN4peoiCZX"
      }
    },
    {
      "cell_type": "code",
      "source": [
        "from google.colab import drive   #import dataset from google drive\n",
        "drive.mount('/content/drive')"
      ],
      "metadata": {
        "id": "4CkvbW_SlZ_R"
      },
      "execution_count": null,
      "outputs": []
    },
    {
      "cell_type": "code",
      "source": [
        "telecom_df=pd.read_csv('/content/drive/MyDrive/Capstone EDA Telecom Churn Analysis Project /Telecom Churn.csv') #load the dataset"
      ],
      "metadata": {
        "id": "SFoIE9kL_QWI"
      },
      "execution_count": null,
      "outputs": []
    },
    {
      "cell_type": "markdown",
      "source": [
        "### Dataset First View"
      ],
      "metadata": {
        "id": "x71ZqKXriCWQ"
      }
    },
    {
      "cell_type": "code",
      "source": [
        "telecom_df  # Dataset First Look"
      ],
      "metadata": {
        "id": "LWNFOSvLl09H"
      },
      "execution_count": null,
      "outputs": []
    },
    {
      "cell_type": "code",
      "source": [
        "telecom_df.head()"
      ],
      "metadata": {
        "id": "GiVp7dTR_koC"
      },
      "execution_count": null,
      "outputs": []
    },
    {
      "cell_type": "code",
      "source": [
        "telecom_df.tail()"
      ],
      "metadata": {
        "id": "IRfKMoNh_oUB"
      },
      "execution_count": null,
      "outputs": []
    },
    {
      "cell_type": "markdown",
      "source": [
        "### Dataset Rows & Columns count"
      ],
      "metadata": {
        "id": "7hBIi_osiCS2"
      }
    },
    {
      "cell_type": "code",
      "source": [
        "telecom_df.shape   # Dataset Rows & Columns count"
      ],
      "metadata": {
        "id": "Kllu7SJgmLij"
      },
      "execution_count": null,
      "outputs": []
    },
    {
      "cell_type": "markdown",
      "source": [
        "### Dataset Information"
      ],
      "metadata": {
        "id": "JlHwYmJAmNHm"
      }
    },
    {
      "cell_type": "code",
      "source": [
        "telecom_df.info()  # Dataset Info"
      ],
      "metadata": {
        "id": "e9hRXRi6meOf"
      },
      "execution_count": null,
      "outputs": []
    },
    {
      "cell_type": "markdown",
      "source": [
        "#### Duplicate Values"
      ],
      "metadata": {
        "id": "35m5QtbWiB9F"
      }
    },
    {
      "cell_type": "code",
      "source": [
        "telecom_df[telecom_df.duplicated()].sum()    # Dataset Duplicate Value Count"
      ],
      "metadata": {
        "id": "1sLdpKYkmox0"
      },
      "execution_count": null,
      "outputs": []
    },
    {
      "cell_type": "markdown",
      "source": [
        "#### Missing Values/Null Values"
      ],
      "metadata": {
        "id": "PoPl-ycgm1ru"
      }
    },
    {
      "cell_type": "code",
      "source": [
        "null_telecom_df=telecom_df.isnull()"
      ],
      "metadata": {
        "id": "VXEGQW5ABgBb"
      },
      "execution_count": null,
      "outputs": []
    },
    {
      "cell_type": "code",
      "source": [
        "null_sum_telecom_df=telecom_df[telecom_df.isnull()].sum()   # Missing Values/Null Values Count\n",
        "null_sum_telecom_df"
      ],
      "metadata": {
        "id": "GgHWkxvamxVg"
      },
      "execution_count": null,
      "outputs": []
    },
    {
      "cell_type": "code",
      "source": [
        "plt.figure(figsize=(10, 6))\n",
        "sns.heatmap(null_telecom_df, cmap='YlGnBu', cbar=False)\n",
        "plt.title('Null Values in Dataset')\n",
        "plt.show() #Visualizing the missing values"
      ],
      "metadata": {
        "id": "3q5wnI3om9sJ"
      },
      "execution_count": null,
      "outputs": []
    },
    {
      "cell_type": "markdown",
      "source": [
        "### What did you know about your dataset?"
      ],
      "metadata": {
        "id": "H0kj-8xxnORC"
      }
    },
    {
      "cell_type": "markdown",
      "source": [
        "The dataset given is a dataset from Telecommunication industry, and we have to analysis the churn of customers and the insights behind it.\n",
        "Churn prediction is analytical studies on the possibility of a customer abandoning a product or service. The goal is to understand and take steps to change it before the costumer gives up the product or service.\n",
        "\n",
        "**Info-**\n",
        "As per till now we can see there are 3333 entries in the Telecom Dataset and there are 20 columns.There is 1 Boolean Datatype,8 Float datatypes,8 interger datatypes,and 3 text/object datatypes.\n",
        "\n",
        "**Duplicates-**\n",
        "There is no duplicate values in this Dataset.\n",
        "\n",
        "**Missing/Null Values-**\n",
        "There is no null values in the Dataset which help us to get the insights in a good manner\n"
      ],
      "metadata": {
        "id": "gfoNAAC-nUe_"
      }
    },
    {
      "cell_type": "markdown",
      "source": [
        "## ***2. Understanding Your Variables***"
      ],
      "metadata": {
        "id": "nA9Y7ga8ng1Z"
      }
    },
    {
      "cell_type": "code",
      "source": [
        "telecom_df.columns  # Dataset Columns"
      ],
      "metadata": {
        "id": "j7xfkqrt5Ag5"
      },
      "execution_count": null,
      "outputs": []
    },
    {
      "cell_type": "code",
      "source": [
        "telecom_df.describe(include='all') # Dataset Describe"
      ],
      "metadata": {
        "id": "DnOaZdaE5Q5t"
      },
      "execution_count": null,
      "outputs": []
    },
    {
      "cell_type": "markdown",
      "source": [
        "### Variables Description"
      ],
      "metadata": {
        "id": "PBTbrJXOngz2"
      }
    },
    {
      "cell_type": "markdown",
      "source": [
        "The variable descriptions for the columns in the `telecom_df` DataFrame:\n",
        "\n",
        "1. State: The state in the United States where the customer resides.\n",
        "2. Account length: The number of days the customer has been an account holder.\n",
        "3. Area code: The three-digit area code of the customer's phone number.\n",
        "4. International plan: Whether the customer has an international calling plan (yes/no).\n",
        "5. Voice mail plan: Whether the customer has a voicemail plan (yes/no).\n",
        "6. Number vmail messages: The number of voicemail messages the customer has.\n",
        "7. Total day minutes: The total number of minutes the customer used during the day.\n",
        "8. Total day calls: The total number of calls the customer made during the day.\n",
        "9. Total day charge: The total charge in dollars for the customer's day usage.\n",
        "10. Total eve minutes: The total number of minutes the customer used during the evening.\n",
        "11. Total eve calls: The total number of calls the customer made during the evening.\n",
        "12. Total eve charge: The total charge in dollars for the customer's evening usage.\n",
        "13. Total night minutes: The total number of minutes the customer used during the night.\n",
        "14. Total night calls: The total number of calls the customer made during the night.\n",
        "15. Total night charge: The total charge in dollars for the customer's night usage.\n",
        "16. Total intl minutes: The total number of international minutes the customer used.\n",
        "17. Total intl calls: The total number of international calls the customer made.\n",
        "18. Total intl charge: The total charge in dollars for the customer's international usage.\n",
        "19. Customer service calls: The number of customer service calls made by the customer.\n",
        "20. Churn: Whether the customer churned (cancelled the service) (True/False).\n"
      ],
      "metadata": {
        "id": "aJV4KIxSnxay"
      }
    },
    {
      "cell_type": "markdown",
      "source": [
        "### Check Unique Values for each variable."
      ],
      "metadata": {
        "id": "u3PMJOP6ngxN"
      }
    },
    {
      "cell_type": "code",
      "source": [
        "telecom_df.nunique() #Check Unique Values for each variable."
      ],
      "metadata": {
        "id": "zms12Yq5n-jE"
      },
      "execution_count": null,
      "outputs": []
    },
    {
      "cell_type": "code",
      "source": [
        "telecom_df['State'].unique()"
      ],
      "metadata": {
        "id": "tKYfuDFOyu7L"
      },
      "execution_count": null,
      "outputs": []
    },
    {
      "cell_type": "code",
      "source": [
        "telecom_df['Account length'].unique()"
      ],
      "metadata": {
        "id": "lZfCZt14yz5B"
      },
      "execution_count": null,
      "outputs": []
    },
    {
      "cell_type": "code",
      "source": [
        "telecom_df['Area code'].unique()"
      ],
      "metadata": {
        "id": "YzBH1mndBfXF"
      },
      "execution_count": null,
      "outputs": []
    },
    {
      "cell_type": "code",
      "source": [
        "telecom_df['International plan'].unique()"
      ],
      "metadata": {
        "id": "fEGlfC3EBocA"
      },
      "execution_count": null,
      "outputs": []
    },
    {
      "cell_type": "code",
      "source": [
        "telecom_df['Voice mail plan'].unique()"
      ],
      "metadata": {
        "id": "7c9Pal8IBxp7"
      },
      "execution_count": null,
      "outputs": []
    },
    {
      "cell_type": "code",
      "source": [
        "telecom_df['Total day minutes'].unique()"
      ],
      "metadata": {
        "id": "iNfL6VcsCJFw"
      },
      "execution_count": null,
      "outputs": []
    },
    {
      "cell_type": "code",
      "source": [
        "telecom_df['Total day calls'].unique()"
      ],
      "metadata": {
        "id": "87CmG8U2CasY"
      },
      "execution_count": null,
      "outputs": []
    },
    {
      "cell_type": "code",
      "source": [
        "telecom_df['Total day charge'].unique()"
      ],
      "metadata": {
        "id": "BIkgZzjoCeP_"
      },
      "execution_count": null,
      "outputs": []
    },
    {
      "cell_type": "code",
      "source": [
        "telecom_df['Total eve minutes'].unique()"
      ],
      "metadata": {
        "id": "smqZURZXDc3b"
      },
      "execution_count": null,
      "outputs": []
    },
    {
      "cell_type": "code",
      "source": [
        "telecom_df['Total eve calls'].unique()"
      ],
      "metadata": {
        "id": "P9OCPzi1DjQR"
      },
      "execution_count": null,
      "outputs": []
    },
    {
      "cell_type": "code",
      "source": [
        "telecom_df['Total eve charge'].unique()"
      ],
      "metadata": {
        "id": "JfOJRFZLDtOA"
      },
      "execution_count": null,
      "outputs": []
    },
    {
      "cell_type": "code",
      "source": [
        "telecom_df['Total night minutes'].unique()"
      ],
      "metadata": {
        "id": "-GlJ5PGvEBhA"
      },
      "execution_count": null,
      "outputs": []
    },
    {
      "cell_type": "code",
      "source": [
        "telecom_df['Total intl minutes'].unique()"
      ],
      "metadata": {
        "id": "VpSA7OEZEVxt"
      },
      "execution_count": null,
      "outputs": []
    },
    {
      "cell_type": "code",
      "source": [
        "telecom_df['Total intl calls'].unique()"
      ],
      "metadata": {
        "id": "QVISTRrNEdyw"
      },
      "execution_count": null,
      "outputs": []
    },
    {
      "cell_type": "code",
      "source": [
        "telecom_df['Total intl charge'].unique()"
      ],
      "metadata": {
        "id": "_PpNMJ7aCQno"
      },
      "execution_count": null,
      "outputs": []
    },
    {
      "cell_type": "code",
      "source": [
        "telecom_df['Customer service calls'].unique()"
      ],
      "metadata": {
        "id": "un3CEc8iE3bZ"
      },
      "execution_count": null,
      "outputs": []
    },
    {
      "cell_type": "code",
      "source": [
        "telecom_df['Churn'].unique()"
      ],
      "metadata": {
        "id": "k4sDQoMuFAAY"
      },
      "execution_count": null,
      "outputs": []
    },
    {
      "cell_type": "code",
      "source": [
        "telecom_df['Day cost per minute'].unique()"
      ],
      "metadata": {
        "id": "Qg3w3ENeFc1e"
      },
      "execution_count": null,
      "outputs": []
    },
    {
      "cell_type": "code",
      "source": [
        "telecom_df['Eve cost per minute'].unique()"
      ],
      "metadata": {
        "id": "YIDe8gjHFtwq"
      },
      "execution_count": null,
      "outputs": []
    },
    {
      "cell_type": "code",
      "source": [
        "telecom_df['Night cost per minute'].unique()"
      ],
      "metadata": {
        "id": "WHtl8BSfFzuf"
      },
      "execution_count": null,
      "outputs": []
    },
    {
      "cell_type": "markdown",
      "source": [
        "## 3. ***Data Wrangling***"
      ],
      "metadata": {
        "id": "dauF4eBmngu3"
      }
    },
    {
      "cell_type": "markdown",
      "source": [
        "### Data Wrangling Code"
      ],
      "metadata": {
        "id": "bKJF3rekwFvQ"
      }
    },
    {
      "cell_type": "code",
      "source": [
        "telecom_df['Account length'].value_counts().head() #total count account length"
      ],
      "metadata": {
        "id": "AtKZOCzyTMDZ"
      },
      "execution_count": null,
      "outputs": []
    },
    {
      "cell_type": "code",
      "source": [
        "telecom_df['Account length'].value_counts().tail() #total count account length for lowest 5 states"
      ],
      "metadata": {
        "id": "YB8F_d18UES1"
      },
      "execution_count": null,
      "outputs": []
    },
    {
      "cell_type": "code",
      "source": [
        "telecom_df.groupby(['State']).agg({'Account length':'sum'}).sort_values(by='Account length', ascending=False).head(10) #total account length statewise for top 10 states\n"
      ],
      "metadata": {
        "id": "TckObG0SS_Kw"
      },
      "execution_count": null,
      "outputs": []
    },
    {
      "cell_type": "code",
      "source": [
        "x=telecom_df.groupby(['State']).agg({'State':'count'}) #most top 10 states where orange telecomm's is used\n",
        "x['State'].sort_values(ascending=False).head(10)\n"
      ],
      "metadata": {
        "id": "zXe6Q4z1QX__"
      },
      "execution_count": null,
      "outputs": []
    },
    {
      "cell_type": "code",
      "source": [
        "telecom_df.groupby(['State']).agg({'Customer service calls':'count'}).sort_values(by='Customer service calls', ascending=False).head(10)  #total customer service calls called by the customers in different states"
      ],
      "metadata": {
        "id": "g7hEadRUWUFB"
      },
      "execution_count": null,
      "outputs": []
    },
    {
      "cell_type": "code",
      "source": [
        "telecom_df['Churn'].value_counts()  #total no. of churn"
      ],
      "metadata": {
        "id": "bPjDX6_xe-tU"
      },
      "execution_count": null,
      "outputs": []
    },
    {
      "cell_type": "code",
      "source": [
        "telecom_df['International plan'].value_counts() #counting the internation plan used by the customers"
      ],
      "metadata": {
        "id": "XiuSQdBfcDTN"
      },
      "execution_count": null,
      "outputs": []
    },
    {
      "cell_type": "code",
      "source": [
        "telecom_df['Voice mail plan'].value_counts() #counting the voice mail plan used by the customers"
      ],
      "metadata": {
        "id": "r92RxiD5cXFM"
      },
      "execution_count": null,
      "outputs": []
    },
    {
      "cell_type": "code",
      "source": [
        "st_ch_intpln=telecom_df.groupby(['State','Churn','International plan']).agg({'Churn': 'count'})  #to the count of churn group wise using state,churn,international plan"
      ],
      "metadata": {
        "id": "RmRDHe1chHK8"
      },
      "execution_count": null,
      "outputs": []
    },
    {
      "cell_type": "code",
      "source": [
        "st_ch_intpln['Churn'].sort_values(ascending=False)  #sorting of variable descending wise"
      ],
      "metadata": {
        "id": "AjPvFYq3jZbi"
      },
      "execution_count": null,
      "outputs": []
    },
    {
      "cell_type": "code",
      "source": [
        "telecom_df.groupby(['State']).agg({'Total day charge': 'mean','Total eve charge':'mean','Total night charge':'mean','Total intl charge':'mean'})   #Total day charge,Total eve charge,Total night charge,Total intl charge mean values state wise"
      ],
      "metadata": {
        "id": "Icx86GfmkbmC"
      },
      "execution_count": null,
      "outputs": []
    },
    {
      "cell_type": "code",
      "source": [
        "telecom_df.corr() #to find the correlation between the columns"
      ],
      "metadata": {
        "id": "KoxSMFnG59Zk"
      },
      "execution_count": null,
      "outputs": []
    },
    {
      "cell_type": "markdown",
      "source": [
        "**Renaming the Columns**"
      ],
      "metadata": {
        "id": "6o0VYvqiKUmH"
      }
    },
    {
      "cell_type": "code",
      "source": [
        "telecom_df.rename(columns={'Number vmail messages':'Number Of Mail Messages'},inplace=True) #renaming the number vmail messages"
      ],
      "metadata": {
        "id": "Cva5u9B3KaQb"
      },
      "execution_count": null,
      "outputs": []
    },
    {
      "cell_type": "code",
      "source": [
        "telecom_df.columns #to check the columns name"
      ],
      "metadata": {
        "id": "XNhC5OLIK6CO"
      },
      "execution_count": null,
      "outputs": []
    },
    {
      "cell_type": "markdown",
      "source": [
        "**Feature Engineering**"
      ],
      "metadata": {
        "id": "2gMb79BmLo5v"
      }
    },
    {
      "cell_type": "code",
      "source": [
        "telecom_df.head()"
      ],
      "metadata": {
        "id": "wk-9a2fpoLcV"
      },
      "execution_count": null,
      "outputs": []
    },
    {
      "cell_type": "code",
      "source": [
        "telecom_df['Day cost per minute']=round(telecom_df['Total day minutes']/telecom_df['Total day charge'],2) #created a column day cost per minute"
      ],
      "metadata": {
        "id": "U5PHialum5AM"
      },
      "execution_count": null,
      "outputs": []
    },
    {
      "cell_type": "code",
      "source": [
        "telecom_df['Day cost per minute'].value_counts() #to check the column value counts"
      ],
      "metadata": {
        "id": "rcVLB1s2nULF"
      },
      "execution_count": null,
      "outputs": []
    },
    {
      "cell_type": "code",
      "source": [
        "telecom_df['Eve cost per minute']=round(telecom_df['Total eve minutes']/telecom_df['Total eve charge'],2) #created a column eve cost per minute"
      ],
      "metadata": {
        "id": "z0bHkMffoIS6"
      },
      "execution_count": null,
      "outputs": []
    },
    {
      "cell_type": "code",
      "source": [
        "telecom_df['Eve cost per minute'].value_counts() #to check the value counts"
      ],
      "metadata": {
        "id": "hdLklohAqw2B"
      },
      "execution_count": null,
      "outputs": []
    },
    {
      "cell_type": "code",
      "source": [
        "telecom_df['Night cost per minute']=round(telecom_df['Total night minutes']/telecom_df['Total night charge'],2) #created a column night cost per minute"
      ],
      "metadata": {
        "id": "XupvyvSBq1y4"
      },
      "execution_count": null,
      "outputs": []
    },
    {
      "cell_type": "code",
      "source": [
        "telecom_df['Night cost per minute'].value_counts() #to check the value counts of the column"
      ],
      "metadata": {
        "id": "ZmKnwmJ9rV2J"
      },
      "execution_count": null,
      "outputs": []
    },
    {
      "cell_type": "code",
      "source": [
        "telecom_df[telecom_df['Day cost per minute'].isna()] #to check the null values in the new column"
      ],
      "metadata": {
        "id": "pyCb3cFawovV"
      },
      "execution_count": null,
      "outputs": []
    },
    {
      "cell_type": "code",
      "source": [
        "x=0  #after analysing the column filled the null values with 0\n",
        "telecom_df['Day cost per minute'].fillna(x,inplace=True)"
      ],
      "metadata": {
        "id": "uMVcB-1KxDrY"
      },
      "execution_count": null,
      "outputs": []
    },
    {
      "cell_type": "code",
      "source": [
        "telecom_df.info() #to check the null values"
      ],
      "metadata": {
        "id": "eIlCKbjNxSLk"
      },
      "execution_count": null,
      "outputs": []
    },
    {
      "cell_type": "code",
      "source": [
        "telecom_df[telecom_df['Eve cost per minute'].isna()] #to check the null values in the new column"
      ],
      "metadata": {
        "id": "EB2qK64rxnPF"
      },
      "execution_count": null,
      "outputs": []
    },
    {
      "cell_type": "code",
      "source": [
        "x=0  #after analysing the column filled the null values with 0\n",
        "telecom_df['Eve cost per minute'].fillna(x,inplace=True)"
      ],
      "metadata": {
        "id": "NGFPByWYxw40"
      },
      "execution_count": null,
      "outputs": []
    },
    {
      "cell_type": "code",
      "source": [
        "telecom_df.info()  #to check the null values"
      ],
      "metadata": {
        "id": "BEu586J1x4zz"
      },
      "execution_count": null,
      "outputs": []
    },
    {
      "cell_type": "markdown",
      "source": [
        "### What all manipulations have you done and insights you found?"
      ],
      "metadata": {
        "id": "MSa1f5Uengrz"
      }
    },
    {
      "cell_type": "markdown",
      "source": [
        "The manupulation we have done in this dataset that we renamed the column name and created a new columns cost per minute wise which will help us to identify the distributions of price among different states.\n",
        "\n",
        "The analysis of the dataset reveals interesting insights. The account length distribution suggests that most customers have an account length between 90-105 days, with a significant drop in retention after 105 days. States such as WV, MN, NY, VA, and WY have higher account lengths, indicating a correlation between state and customer loyalty. These states also have a higher number of users, indicating a strong customer base.\n",
        "\n",
        "Furthermore, the states with higher account lengths also have a higher number of customer service calls, suggesting that these states may be facing more issues that require resolution. The relatively low churn rate of 16% indicates that the majority of customers trust the telecom company.\n",
        "\n",
        "Additionally, around 10% of customers do not use the international plan, indicating potential areas for improvement in international plan offerings. On the other hand, the data suggests that customers generally make use of the voice mail plan, highlighting its popularity.\n",
        "\n",
        "These insights provide valuable information for the telecom company to focus on improving international plans, addressing customer service concerns in specific states, and potentially enhancing the voice mail plan further.\n",
        "Upon further analysis of the dataset, it is evident that the total day minutes, total day calls, and total day charge columns are highly correlated, indicating that customers tend to make more calls and have longer conversations during the day. A similar pattern can be observed for the evening and night durations and charges.\n",
        "\n",
        "Interestingly, the total international minutes and total international calls do not exhibit a strong correlation with the international plan column, suggesting that usage of international services may not solely depend on having an international plan.\n",
        "\n",
        "The distribution of customer service calls indicates that the majority of customers make a low number of calls. However, there are a few outliers who make a significantly higher number of calls, potentially indicating more complex or unresolved issues.\n",
        "\n",
        "Overall, these additional insights shed light on the calling patterns, international usage, and customer service interactions within the telecom company. Further exploration and analysis of these factors could provide valuable information for refining service offerings, addressing customer needs, and improving overall customer satisfaction."
      ],
      "metadata": {
        "id": "LbyXE7I1olp8"
      }
    },
    {
      "cell_type": "markdown",
      "source": [
        "## ***4. Data Vizualization, Storytelling & Experimenting with charts : Understand the relationships between variables***"
      ],
      "metadata": {
        "id": "GF8Ens_Soomf"
      }
    },
    {
      "cell_type": "markdown",
      "source": [
        "**Histogram Chart-Distribution of Total Day Minutes(Univariate)**\n"
      ],
      "metadata": {
        "id": "0wOQAZs5pc--"
      }
    },
    {
      "cell_type": "code",
      "source": [
        "plt.figure(figsize=(8, 6)) #visualisation code\n",
        "plt.hist(telecom_df['Total day minutes'], bins=20, color='skyblue', edgecolor='black')\n",
        "plt.title('Distribution of Total Day Minutes')\n",
        "plt.xlabel('Total Day Minutes')\n",
        "plt.ylabel('Frequency')\n",
        "plt.show()"
      ],
      "metadata": {
        "id": "7v_ESjsspbW7"
      },
      "execution_count": null,
      "outputs": []
    },
    {
      "cell_type": "markdown",
      "source": [
        "##### 1. Why did you pick the specific chart?"
      ],
      "metadata": {
        "id": "K5QZ13OEpz2H"
      }
    },
    {
      "cell_type": "markdown",
      "source": [
        "The reason behind to choose this histogram is to show the distribution of the total day minutes."
      ],
      "metadata": {
        "id": "XESiWehPqBRc"
      }
    },
    {
      "cell_type": "markdown",
      "source": [
        "##### 2. What is/are the insight(s) found from the chart?"
      ],
      "metadata": {
        "id": "lQ7QKXXCp7Bj"
      }
    },
    {
      "cell_type": "markdown",
      "source": [
        "The insight found from the chart is that total day minutes is high in between 150 and 200 so we can assume that in day cost per min is less so people prefer calls in day more as compared to others."
      ],
      "metadata": {
        "id": "C_j1G7yiqdRP"
      }
    },
    {
      "cell_type": "markdown",
      "source": [
        "##### 3. Will the gained insights help creating a positive business impact?\n"
      ],
      "metadata": {
        "id": "448CDAPjqfQr"
      }
    },
    {
      "cell_type": "markdown",
      "source": [
        "Yes,it will help in creating a positive bussiness impact."
      ],
      "metadata": {
        "id": "3cspy4FjqxJW"
      }
    },
    {
      "cell_type": "markdown",
      "source": [
        "**Pie Chart-Distribution of International Plan(Univariate)**"
      ],
      "metadata": {
        "id": "KSlN3yHqYklG"
      }
    },
    {
      "cell_type": "code",
      "source": [
        "telecom_df['International plan'].value_counts().plot(kind='pie', autopct='%1.1f%%')  #visualisation code\n",
        "plt.title('Distribution of International Plan')\n",
        "plt.ylabel('')\n",
        "plt.show()"
      ],
      "metadata": {
        "id": "ULnpDVPrAlTi"
      },
      "execution_count": null,
      "outputs": []
    },
    {
      "cell_type": "markdown",
      "source": [
        "##### 1. Why did you pick the specific chart?"
      ],
      "metadata": {
        "id": "t6dVpIINYklI"
      }
    },
    {
      "cell_type": "markdown",
      "source": [
        "The reason behind the specific chart is to show the proportionality of the Distribution of International plan if it is YES and NO."
      ],
      "metadata": {
        "id": "5aaW0BYyYklI"
      }
    },
    {
      "cell_type": "markdown",
      "source": [
        "##### 2. What is/are the insight(s) found from the chart?"
      ],
      "metadata": {
        "id": "ijmpgYnKYklI"
      }
    },
    {
      "cell_type": "markdown",
      "source": [
        "As we can see in the chart 9.7% of the people choose International Plan and 90.3% of the people don't choose any international plan."
      ],
      "metadata": {
        "id": "PSx9atu2YklI"
      }
    },
    {
      "cell_type": "markdown",
      "source": [
        "##### 3. Will the gained insights help creating a positive business impact?\n",
        "Are there any insights that lead to negative growth? Justify with specific reason."
      ],
      "metadata": {
        "id": "-JiQyfWJYklI"
      }
    },
    {
      "cell_type": "markdown",
      "source": [
        "This insights will lead to postive growth so we can change the plan for the customer if they are intrested in international calls by giving them more offer or charge less on a cost per minute."
      ],
      "metadata": {
        "id": "BcBbebzrYklV"
      }
    },
    {
      "cell_type": "markdown",
      "source": [
        "####Bar Chart-Count of Customers per State(Univariate)"
      ],
      "metadata": {
        "id": "EM7whBJCYoAo"
      }
    },
    {
      "cell_type": "code",
      "source": [
        "#visualization code\n",
        "plt.figure(figsize=(20,10))  # Adjust the figure size as needed\n",
        "sns.countplot(data=telecom_df, x='State')\n",
        "plt.title('Count of Customers per State')\n",
        "plt.xlabel('State')\n",
        "plt.ylabel('Count')\n",
        "plt.xticks(rotation=45)\n",
        "plt.show()"
      ],
      "metadata": {
        "id": "t6GMdE67YoAp"
      },
      "execution_count": null,
      "outputs": []
    },
    {
      "cell_type": "markdown",
      "source": [
        "##### 1. Why did you pick the specific chart?"
      ],
      "metadata": {
        "id": "fge-S5ZAYoAp"
      }
    },
    {
      "cell_type": "markdown",
      "source": [
        "The reason behind to choose this chart is to show in which states the no of customers are there which help us to analyse in which state where we have to focus more"
      ],
      "metadata": {
        "id": "5dBItgRVYoAp"
      }
    },
    {
      "cell_type": "markdown",
      "source": [
        "##### 2. What is/are the insight(s) found from the chart?"
      ],
      "metadata": {
        "id": "85gYPyotYoAp"
      }
    },
    {
      "cell_type": "markdown",
      "source": [
        "As we can see in the chart in state \"WV\" there is high customer as compared to others and in \"CA\" is very less customers."
      ],
      "metadata": {
        "id": "4jstXR6OYoAp"
      }
    },
    {
      "cell_type": "markdown",
      "source": [
        "##### 3. Will the gained insights help creating a positive business impact?\n",
        "Are there any insights that lead to negative growth? Justify with specific reason."
      ],
      "metadata": {
        "id": "RoGjAbkUYoAp"
      }
    },
    {
      "cell_type": "markdown",
      "source": [
        "The insights gained from analyzing the top states where orange telecomm's service is used the most can potentially create a positive business impact. By focusing on these states, the company can allocate resources, tailor marketing strategies, and provide localized offerings to effectively target the customer base. However, it is important to consider factors such as market saturation, competition, customer satisfaction, and external influences that could lead to negative growth. Careful analysis and proactive measures are necessary to address these challenges and ensure sustained positive growth in the telecom market."
      ],
      "metadata": {
        "id": "zfJ8IqMcYoAp"
      }
    },
    {
      "cell_type": "markdown",
      "source": [
        "####Box Plot-Total Day Charge by Churn Status(Univariate)"
      ],
      "metadata": {
        "id": "4Of9eVA-YrdM"
      }
    },
    {
      "cell_type": "code",
      "source": [
        "sns.boxplot(data=telecom_df, x='Churn', y='Total day charge') #visualization code\n",
        "plt.title('Total Day Charge by Churn Status')\n",
        "plt.xlabel('Churn')\n",
        "plt.ylabel('Total Day Charge')\n",
        "plt.show()"
      ],
      "metadata": {
        "id": "irlUoxc8YrdO"
      },
      "execution_count": null,
      "outputs": []
    },
    {
      "cell_type": "markdown",
      "source": [
        "##### 1. Why did you pick the specific chart?"
      ],
      "metadata": {
        "id": "iky9q4vBYrdO"
      }
    },
    {
      "cell_type": "markdown",
      "source": [
        "The reason behind using Box Plot is to gain insights about the distribution, central tendency, variability, and potential outliers in the data."
      ],
      "metadata": {
        "id": "aJRCwT6DYrdO"
      }
    },
    {
      "cell_type": "markdown",
      "source": [
        "##### 2. What is/are the insight(s) found from the chart?"
      ],
      "metadata": {
        "id": "F6T5p64dYrdO"
      }
    },
    {
      "cell_type": "markdown",
      "source": [
        " A symmetrical box indicates a relatively balanced distribution, while a skewed box may suggest an asymmetrical distribution.The position of the median line within the box provides information about the central tendency of the data.the median is closer to the bottom of the box, the distribution is positively skewed, and it is closer to the top, the distribution is negatively skewed."
      ],
      "metadata": {
        "id": "Xx8WAJvtYrdO"
      }
    },
    {
      "cell_type": "markdown",
      "source": [
        "##### 3. Will the gained insights help creating a positive business impact?\n",
        "Are there any insights that lead to negative growth? Justify with specific reason."
      ],
      "metadata": {
        "id": "y-Ehk30pYrdP"
      }
    },
    {
      "cell_type": "markdown",
      "source": [
        "The skewed distribution of Total Day Charge by Churn Status, specifically for customers with a \"False\" churn status, suggests a potential negative impact on growth. Higher day charges for these customers may indicate dissatisfaction or increased costs, potentially leading to a higher churn rate. It is crucial to investigate the underlying reasons behind the skewed distribution and take corrective actions. By addressing concerns related to service quality, pricing, or customer support, the company can mitigate the risk of negative growth and work towards creating a positive business impact."
      ],
      "metadata": {
        "id": "jLNxxz7MYrdP"
      }
    },
    {
      "cell_type": "markdown",
      "source": [
        "####Bar Chart-Churn Status by State(Bivariate)"
      ],
      "metadata": {
        "id": "bamQiAODYuh1"
      }
    },
    {
      "cell_type": "code",
      "source": [
        "plt.figure(figsize=(12, 10))\n",
        "sns.countplot(data=telecom_df, x='State', hue='Churn', palette='viridis')\n",
        "plt.title('Churn Status by State', fontsize=16)\n",
        "plt.xlabel('State', fontsize=14)\n",
        "plt.ylabel('Count', fontsize=14)\n",
        "plt.xticks(rotation=90, fontsize=12)\n",
        "plt.legend(['False', 'True'], loc='upper right', fontsize=12)\n",
        "plt.tight_layout()\n",
        "plt.show()\n"
      ],
      "metadata": {
        "id": "CEkJF3kZe5nv"
      },
      "execution_count": null,
      "outputs": []
    },
    {
      "cell_type": "markdown",
      "source": [
        "##### 1. Why did you pick the specific chart?"
      ],
      "metadata": {
        "id": "QHF8YVU7Yuh3"
      }
    },
    {
      "cell_type": "markdown",
      "source": [
        "The specific reason to pick the chart is to compare the churn status state wise.\n",
        "\n"
      ],
      "metadata": {
        "id": "dcxuIMRPYuh3"
      }
    },
    {
      "cell_type": "markdown",
      "source": [
        "##### 2. What is/are the insight(s) found from the chart?"
      ],
      "metadata": {
        "id": "GwzvFGzlYuh3"
      }
    },
    {
      "cell_type": "markdown",
      "source": [
        "From the chart showing the churn count by state, one insight that can be observed is that the churn count is relatively lower in the state of Iowa (IA) compared to other states. This suggests that customers from Iowa have a relatively lower likelihood of churning compared to customers from other states. This insight can be valuable for the business to understand the factors or strategies that contribute to higher customer retention in Iowa, which can then be leveraged to improve customer retention in other states."
      ],
      "metadata": {
        "id": "uyqkiB8YYuh3"
      }
    },
    {
      "cell_type": "markdown",
      "source": [
        "##### 3. Will the gained insights help creating a positive business impact?\n",
        "Are there any insights that lead to negative growth? Justify with specific reason."
      ],
      "metadata": {
        "id": "qYpmQ266Yuh3"
      }
    },
    {
      "cell_type": "markdown",
      "source": [
        "The insight that customers from Iowa have a lower churn count can potentially create a positive business impact by understanding factors for higher customer retention. However, without further analysis, it is challenging to identify specific insights leading to negative growth. Multiple factors like customer satisfaction, service quality, and pricing need consideration to determine if any insights from the chart would have a negative impact on growth."
      ],
      "metadata": {
        "id": "_WtzZ_hCYuh4"
      }
    },
    {
      "cell_type": "markdown",
      "source": [
        "####Line Chart-Average Total Day Minutes by State(Bivariate)"
      ],
      "metadata": {
        "id": "OH-pJp9IphqM"
      }
    },
    {
      "cell_type": "code",
      "source": [
        "states = telecom_df['State'].unique() #code for the line chart\n",
        "plt.figure(figsize=(20,10))\n",
        "telecom_df.groupby('State')['Total day minutes'].mean().plot(kind='line', marker='o')\n",
        "plt.title('Average Total Day Minutes by State')\n",
        "plt.xlabel('State')\n",
        "plt.ylabel('Average Total Day Minutes')\n",
        "plt.xticks(np.arange(len(states)), states, rotation=45)\n",
        "plt.show()"
      ],
      "metadata": {
        "id": "D-rPjCrrQOEE"
      },
      "execution_count": null,
      "outputs": []
    },
    {
      "cell_type": "markdown",
      "source": [
        "##### 1. Why did you pick the specific chart?"
      ],
      "metadata": {
        "id": "bbFf2-_FphqN"
      }
    },
    {
      "cell_type": "markdown",
      "source": [
        "A line plot was chosen to visualize the average total day minutes by state because it allows for easy comparison between states, shows variations in values, and can reveal trends or patterns."
      ],
      "metadata": {
        "id": "loh7H2nzphqN"
      }
    },
    {
      "cell_type": "markdown",
      "source": [
        "##### 2. What is/are the insight(s) found from the chart?"
      ],
      "metadata": {
        "id": "_ouA3fa0phqN"
      }
    },
    {
      "cell_type": "markdown",
      "source": [
        "Insights from the chart indicate that Vermont (VT), Arizona (AZ), and Wisconsin (WI) have higher average total day minutes, while North Carolina (NC) and Washington (WA) have lower average total day minutes. These variations in call durations across states can inform targeted marketing strategies and service offerings to cater to customer preferences in each region."
      ],
      "metadata": {
        "id": "VECbqPI7phqN"
      }
    },
    {
      "cell_type": "markdown",
      "source": [
        "##### 3. Will the gained insights help creating a positive business impact?\n",
        "Are there any insights that lead to negative growth? Justify with specific reason."
      ],
      "metadata": {
        "id": "Seke61FWphqN"
      }
    },
    {
      "cell_type": "markdown",
      "source": [
        "The gained insights on variations in average total day minutes by state can positively impact the business by enabling targeted strategies."
      ],
      "metadata": {
        "id": "DW4_bGpfphqN"
      }
    },
    {
      "cell_type": "markdown",
      "source": [
        "####Scatter Plot-Total Day Minutes vs. Total Eve Minutes(Bivariate)"
      ],
      "metadata": {
        "id": "PIIx-8_IphqN"
      }
    },
    {
      "cell_type": "code",
      "source": [
        "sns.set(style='whitegrid', font_scale=1.2)\n",
        "# Create the scatter plot with customized settings\n",
        "plt.figure(figsize=(10, 8))  # Adjust the figure size as needed\n",
        "sns.scatterplot(data=telecom_df, x='Total day minutes', y='Total eve minutes', alpha=0.7, edgecolor='k')\n",
        "plt.title('Total Day Minutes vs. Total Eve Minutes', fontsize=16)\n",
        "plt.xlabel('Total Day Minutes')\n",
        "plt.ylabel('Total Eve Minutes')\n",
        "plt.xticks(fontsize=12)\n",
        "plt.yticks(fontsize=12)\n",
        "plt.grid(True, linestyle='--')\n",
        "\n",
        "# Add a regression line\n",
        "sns.regplot(data=telecom_df, x='Total day minutes', y='Total eve minutes', scatter=False, color='r')\n",
        "\n",
        "# Show the plot\n",
        "plt.tight_layout()\n",
        "plt.show()"
      ],
      "metadata": {
        "id": "lqAIGUfyphqO"
      },
      "execution_count": null,
      "outputs": []
    },
    {
      "cell_type": "markdown",
      "source": [
        "##### 1. Why did you pick the specific chart?"
      ],
      "metadata": {
        "id": "t27r6nlMphqO"
      }
    },
    {
      "cell_type": "markdown",
      "source": [
        "The scatter plot with a horizontal line was chosen to visualize the relationship between 'Total Day Minutes' and 'Total Eve Minutes' and assess any outliers. The plot helps identify any patterns or correlations between the variables, and the added mean line provides a reference point for comparison. This chart enables insights into usage patterns, outlier detection, and decision-making regarding service offerings or customer engagement strategies."
      ],
      "metadata": {
        "id": "iv6ro40sphqO"
      }
    },
    {
      "cell_type": "markdown",
      "source": [
        "##### 2. What is/are the insight(s) found from the chart?"
      ],
      "metadata": {
        "id": "r2jJGEOYphqO"
      }
    },
    {
      "cell_type": "markdown",
      "source": [
        "The scatter plot comparing 'Total Day Minutes' and 'Total Eve Minutes' indicates a positive correlation between the two variables. The red horizontal line represents the mean value of 'Total Eve Minutes'. Outliers can be identified, and the plot provides insights into the distribution and relationship between the variables, helping understand the usage patterns and potential deviations from the average evening minutes."
      ],
      "metadata": {
        "id": "Po6ZPi4hphqO"
      }
    },
    {
      "cell_type": "markdown",
      "source": [
        "##### 3. Will the gained insights help creating a positive business impact?\n",
        "Are there any insights that lead to negative growth? Justify with specific reason."
      ],
      "metadata": {
        "id": "b0JNsNcRphqO"
      }
    },
    {
      "cell_type": "markdown",
      "source": [
        "yes it helps to gain the insights.from the chart we can see both are correlated with each other so we have to consider both before giving the plans."
      ],
      "metadata": {
        "id": "xvSq8iUTphqO"
      }
    },
    {
      "cell_type": "markdown",
      "source": [
        "**Line Chart-Mean Total Night Charge by Area Code(Bivariate)**"
      ],
      "metadata": {
        "id": "VBUxIPta0UoY"
      }
    },
    {
      "cell_type": "code",
      "source": [
        "plt.figure(figsize=(8, 6)) #data visualisation\n",
        "mean_night_charge = telecom_df.groupby('Area code')['Total night charge'].mean()\n",
        "plt.plot(mean_night_charge.index, mean_night_charge, marker='o')\n",
        "plt.title('Mean Total Night Charge by Area Code')\n",
        "plt.xlabel('Area Code')\n",
        "plt.ylabel('Mean Total Night Charge')\n",
        "plt.xticks(mean_night_charge.index)\n",
        "plt.grid(True, linestyle='--')\n",
        "plt.show()"
      ],
      "metadata": {
        "id": "bwevp1tKp1ck"
      },
      "execution_count": null,
      "outputs": []
    },
    {
      "cell_type": "markdown",
      "source": [
        "##### 1. Why did you pick the specific chart?"
      ],
      "metadata": {
        "id": "jj7wYXLtphqO"
      }
    },
    {
      "cell_type": "markdown",
      "source": [
        "The main motive to choose this line chart to show the mean total night charge area code to know the trend in different area code."
      ],
      "metadata": {
        "id": "Ob8u6rCTphqO"
      }
    },
    {
      "cell_type": "markdown",
      "source": [
        "##### 2. What is/are the insight(s) found from the chart?"
      ],
      "metadata": {
        "id": "eZrbJ2SmphqO"
      }
    },
    {
      "cell_type": "markdown",
      "source": [
        "The chart reveals that the mean total night charge for area code 415 is higher compared to area codes 510 and 408, indicating an imbalance in pricing or usage patterns. This suggests the need to equalize the mean total night charge among the area codes to ensure fairness. Further analysis can be done to understand the factors contributing to the disparity and develop strategies to achieve pricing consistency across all area codes."
      ],
      "metadata": {
        "id": "mZtgC_hjphqO"
      }
    },
    {
      "cell_type": "markdown",
      "source": [
        "##### 3. Will the gained insights help creating a positive business impact?\n",
        "Are there any insights that lead to negative growth? Justify with specific reason."
      ],
      "metadata": {
        "id": "rFu4xreNphqO"
      }
    },
    {
      "cell_type": "markdown",
      "source": [
        "The gained insight of the disparity in mean total night charges can positively impact the business by promoting pricing fairness and enhancing customer satisfaction. However, without considering other factors, it is challenging to identify specific insights that may lead to negative growth. A comprehensive analysis is necessary to assess potential negative growth implications, considering various factors like market dynamics, customer demand, and competitive landscape."
      ],
      "metadata": {
        "id": "ey_0qi68phqO"
      }
    },
    {
      "cell_type": "markdown",
      "source": [
        "####Bar Chart-Average Customer Service Calls by Churn Status(Bivariate)"
      ],
      "metadata": {
        "id": "YJ55k-q6phqO"
      }
    },
    {
      "cell_type": "code",
      "source": [
        "plt.figure(figsize=(8, 6))   #data visualisation code\n",
        "churn_counts = telecom_df.groupby('Churn')['Customer service calls'].mean()\n",
        "bar_width = 0.35\n",
        "index = np.arange(len(churn_counts.index))\n",
        "plt.bar(index, churn_counts, width=bar_width, label='Customer Service Calls')\n",
        "plt.title('Average Customer Service Calls by Churn Status')\n",
        "plt.xlabel('Churn')\n",
        "plt.ylabel('Average Customer Service Calls')\n",
        "plt.xticks(index, churn_counts.index)\n",
        "plt.legend()\n",
        "plt.grid(True, linestyle='--')\n",
        "plt.show()"
      ],
      "metadata": {
        "id": "B2aS4O1ophqO"
      },
      "execution_count": null,
      "outputs": []
    },
    {
      "cell_type": "markdown",
      "source": [
        "##### 1. Why did you pick the specific chart?"
      ],
      "metadata": {
        "id": "gCFgpxoyphqP"
      }
    },
    {
      "cell_type": "markdown",
      "source": [
        "The grouped bar chart was chosen to facilitate easy comparison of the average customer service calls between different churn statuses. This chart effectively represents the categorical churn status variable and the numerical average customer service calls. Its simplicity and familiar format allow for easy interpretation and understanding by a wide range of audiences."
      ],
      "metadata": {
        "id": "TVxDimi2phqP"
      }
    },
    {
      "cell_type": "markdown",
      "source": [
        "##### 2. What is/are the insight(s) found from the chart?"
      ],
      "metadata": {
        "id": "OVtJsKN_phqQ"
      }
    },
    {
      "cell_type": "markdown",
      "source": [
        "The insight from the chart is that, on average, customers who churn (churn=True) have higher customer service call volumes compared to customers who do not churn (churn=False). However, the difference in average customer service calls between the two churn statuses is relatively moderate, with a range of only 1.7"
      ],
      "metadata": {
        "id": "ngGi97qjphqQ"
      }
    },
    {
      "cell_type": "markdown",
      "source": [
        "##### 3. Will the gained insights help creating a positive business impact?\n",
        "Are there any insights that lead to negative growth? Justify with specific reason."
      ],
      "metadata": {
        "id": "lssrdh5qphqQ"
      }
    },
    {
      "cell_type": "markdown",
      "source": [
        "Insights of higher customer service calls for churned customers can help improve retention but no specific negative growth insights identified."
      ],
      "metadata": {
        "id": "tBpY5ekJphqQ"
      }
    },
    {
      "cell_type": "markdown",
      "source": [
        "**Area Chart-Cumulative Sum of Total Intl Minutes by State(Bivariate)**"
      ],
      "metadata": {
        "id": "U2RJ9gkRphqQ"
      }
    },
    {
      "cell_type": "code",
      "source": [
        "df = telecom_df.groupby('State')['Total intl minutes'].sum().sort_values(ascending=False)  # visualization code\n",
        "df.cumsum().plot(kind='area')\n",
        "plt.title('Cumulative Sum of Total Intl Minutes by State')\n",
        "plt.xlabel('States')\n",
        "plt.ylabel('Cumulative Sum of Total Intl Minutes')\n",
        "plt.show()"
      ],
      "metadata": {
        "id": "GM7a4YP4phqQ"
      },
      "execution_count": null,
      "outputs": []
    },
    {
      "cell_type": "markdown",
      "source": [
        "##### 1. Why did you pick the specific chart?"
      ],
      "metadata": {
        "id": "1M8mcRywphqQ"
      }
    },
    {
      "cell_type": "markdown",
      "source": [
        "The area plot was chosen to visualize the cumulative sum of total international minutes by state as it effectively showcases the progression and accumulation of minutes over the different states. The filled area under the curve emphasizes the overall magnitude and allows for easy comparison of the cumulative sums between states."
      ],
      "metadata": {
        "id": "8agQvks0phqQ"
      }
    },
    {
      "cell_type": "markdown",
      "source": [
        "##### 2. What is/are the insight(s) found from the chart?"
      ],
      "metadata": {
        "id": "tgIPom80phqQ"
      }
    },
    {
      "cell_type": "markdown",
      "source": [
        "The insight from the chart is that states like CA, DC, NE, MS, MD, and WV have a higher cumulative sum of total international minutes. This indicates potential higher demand or usage of international calling services in these states compared to others."
      ],
      "metadata": {
        "id": "Qp13pnNzphqQ"
      }
    },
    {
      "cell_type": "markdown",
      "source": [
        "##### 3. Will the gained insights help creating a positive business impact?\n",
        "Are there any insights that lead to negative growth? Justify with specific reason."
      ],
      "metadata": {
        "id": "JMzcOPDDphqR"
      }
    },
    {
      "cell_type": "markdown",
      "source": [
        "The gained insight of higher cumulative international minutes in certain states can potentially help create a positive business impact by highlighting regions with higher demand. No specific insights indicating negative growth are identified from the given information."
      ],
      "metadata": {
        "id": "R4Ka1PC2phqR"
      }
    },
    {
      "cell_type": "markdown",
      "source": [
        "####Clustered Bar Chart-Churn by Voice Mail Plan and International Plan(Multivariate)"
      ],
      "metadata": {
        "id": "BZR9WyysphqO"
      }
    },
    {
      "cell_type": "code",
      "source": [
        "df = telecom_df.groupby(['Churn', 'Voice mail plan', 'International plan']).size().unstack() #visualization code\n",
        "df.plot(kind='bar', stacked=True)\n",
        "plt.title('Churn by Voice Mail Plan and International Plan')\n",
        "plt.xlabel('Churn')\n",
        "plt.ylabel('Count')\n",
        "plt.legend(title='Plans', loc='upper right')\n",
        "plt.xticks(rotation=0)\n",
        "plt.show()\n"
      ],
      "metadata": {
        "id": "TdPTWpAVphqO"
      },
      "execution_count": null,
      "outputs": []
    },
    {
      "cell_type": "markdown",
      "source": [
        "##### 1. Why did you pick the specific chart?"
      ],
      "metadata": {
        "id": "X_VqEhTip1ck"
      }
    },
    {
      "cell_type": "markdown",
      "source": [
        "The specific chart, a stacked bar chart comparing churn by voice mail plan and international plan, was chosen to visually depict the count of each plan combination and their distribution across churn status. It effectively illustrates the relationships between churn and the presence/absence of voice mail and international plans."
      ],
      "metadata": {
        "id": "-vsMzt_np1ck"
      }
    },
    {
      "cell_type": "markdown",
      "source": [
        "##### 2. What is/are the insight(s) found from the chart?"
      ],
      "metadata": {
        "id": "8zGJKyg5p1ck"
      }
    },
    {
      "cell_type": "markdown",
      "source": [
        "Firstly, the majority of customers, indicated by the highest count, do not have a voice mail plan or an international plan (False, No). This suggests a significant portion of customers opt not to subscribe to these additional services. Secondly, the count decreases progressively from (False, Yes) to (True, No) to (True, Yes), indicating varying levels of adoption for voice mail and international plans among churned and non-churned customers. Overall, the chart highlights the distribution of plan combinations and their association with churn status, providing valuable insights into customer preferences and potential factors influencing churn rates."
      ],
      "metadata": {
        "id": "ZYdMsrqVp1ck"
      }
    },
    {
      "cell_type": "markdown",
      "source": [
        "##### 3. Will the gained insights help creating a positive business impact?\n",
        "Are there any insights that lead to negative growth? Justify with specific reason."
      ],
      "metadata": {
        "id": "PVzmfK_Ep1ck"
      }
    },
    {
      "cell_type": "markdown",
      "source": [
        "The gained insights can help create a positive business impact by identifying plan preferences."
      ],
      "metadata": {
        "id": "druuKYZpp1ck"
      }
    },
    {
      "cell_type": "markdown",
      "source": [
        "**Bar Chart-Comparison of Cost per Minute(Multivariate)**"
      ],
      "metadata": {
        "id": "x-EpHcCOp1ci"
      }
    },
    {
      "cell_type": "code",
      "source": [
        "cost_per_minute = ['Day cost per minute', 'Eve cost per minute', 'Night cost per minute']  # Data for comparison\n",
        "values = [telecom_df['Day cost per minute'].mean(),\n",
        "          telecom_df['Eve cost per minute'].mean(),\n",
        "          telecom_df['Night cost per minute'].mean()]\n",
        "# Setting the figure size\n",
        "plt.figure(figsize=(10, 6))\n",
        "# Creating the bar chart using Seaborn\n",
        "sns.barplot(x=cost_per_minute, y=values)\n",
        "plt.xlabel('Cost per minute')\n",
        "plt.ylabel('Average cost')\n",
        "plt.title('Comparison of Cost per Minute')\n",
        "plt.show()"
      ],
      "metadata": {
        "id": "TIJwrbroYuh3"
      },
      "execution_count": null,
      "outputs": []
    },
    {
      "cell_type": "markdown",
      "source": [
        "##### 1. Why did you pick the specific chart?"
      ],
      "metadata": {
        "id": "ylSl6qgtp1ck"
      }
    },
    {
      "cell_type": "markdown",
      "source": [
        "The specific bar chart was chosen to compare the average cost per minute for different time periods (day, evening, and night) in a visually clear and concise manner."
      ],
      "metadata": {
        "id": "m2xqNkiQp1ck"
      }
    },
    {
      "cell_type": "markdown",
      "source": [
        "##### 2. What is/are the insight(s) found from the chart?"
      ],
      "metadata": {
        "id": "ZWILFDl5p1ck"
      }
    },
    {
      "cell_type": "markdown",
      "source": [
        "The insight from the chart is that the average cost per minute follows a pattern, with the night cost per minute being the highest, followed by the evening cost per minute, and the day cost per minute being the lowest. This indicates that the cost of phone calls tends to be higher during the night hours compared to the evening and day hours."
      ],
      "metadata": {
        "id": "x-lUsV2mp1ck"
      }
    },
    {
      "cell_type": "markdown",
      "source": [
        "##### 3. Will the gained insights help creating a positive business impact?\n",
        "Are there any insights that lead to negative growth? Justify with specific reason."
      ],
      "metadata": {
        "id": "M7G43BXep1ck"
      }
    },
    {
      "cell_type": "markdown",
      "source": [
        "The gained insights regarding the varying average cost per minute for different time periods can potentially help create a positive business impact. Businesses can strategically adjust pricing or promotional offers based on these insights to optimize revenue and customer satisfaction."
      ],
      "metadata": {
        "id": "5wwDJXsLp1cl"
      }
    },
    {
      "cell_type": "markdown",
      "source": [
        "**Line Chart-Total day calls,Total eve calls,Total night calls for top 10 States**"
      ],
      "metadata": {
        "id": "Ag9LCva-p1cl"
      }
    },
    {
      "cell_type": "code",
      "source": [
        "fig, axes = plt.subplots(3, 1, figsize=(12, 10))\n",
        "\n",
        "# Selecting the top 10 states based on total call counts\n",
        "top_10_states = telecom_df.groupby('State')[['Total day calls', 'Total eve calls', 'Total night calls']].sum().sum(axis=1).nlargest(10).index\n",
        "\n",
        "# Filtering the data for the top 10 states\n",
        "top_10_data = telecom_df.loc[telecom_df['State'].isin(top_10_states)]\n",
        "\n",
        "# Grouping the filtered data by state and calculating the mean of call counts\n",
        "call_counts = top_10_data.groupby('State')[['Total day calls', 'Total eve calls', 'Total night calls']].mean()\n",
        "\n",
        "# Plotting the line charts for each call type\n",
        "for i, call_type in enumerate(call_counts.columns):\n",
        "    sns.lineplot(data=call_counts, x=call_counts.index, y=call_type, ax=axes[i])\n",
        "    axes[i].set_title(f'Average {call_type} by State (Top 10 States)')\n",
        "    axes[i].set_xlabel('State')\n",
        "    axes[i].set_ylabel('Average Call Count')\n",
        "    axes[i].set_xticks(range(len(call_counts.index)))\n",
        "    axes[i].set_xticklabels(call_counts.index, rotation=45)\n",
        "\n",
        "plt.tight_layout()\n",
        "plt.show()\n"
      ],
      "metadata": {
        "id": "EDYRqeKcBrWe"
      },
      "execution_count": null,
      "outputs": []
    },
    {
      "cell_type": "markdown",
      "source": [
        "##### 1. Why did you pick the specific chart?"
      ],
      "metadata": {
        "id": "E6MkPsBcp1cl"
      }
    },
    {
      "cell_type": "markdown",
      "source": [
        "I picked the specific chart, which is a line chart, because it allows for the comparison of trends or changes over time or different categories. In this case, the line chart is used to compare the average call counts across different call types (total day calls, total eve calls, and total night calls) for the top 10 states. It helps visualize any variations or patterns in call counts for each call type across the selected states."
      ],
      "metadata": {
        "id": "V22bRsFWp1cl"
      }
    },
    {
      "cell_type": "markdown",
      "source": [
        "##### 2. What is/are the insight(s) found from the chart?"
      ],
      "metadata": {
        "id": "2cELzS2fp1cl"
      }
    },
    {
      "cell_type": "markdown",
      "source": [
        "The insights from the chart show the average call counts for 'Total day calls', 'Total eve calls', and 'Total night calls' across the top 10 states, allowing for comparisons of call activity between different call types and states."
      ],
      "metadata": {
        "id": "ozQPc2_Ip1cl"
      }
    },
    {
      "cell_type": "markdown",
      "source": [
        "##### 3. Will the gained insights help creating a positive business impact?\n",
        "Are there any insights that lead to negative growth? Justify with specific reason."
      ],
      "metadata": {
        "id": "3MPXvC8up1cl"
      }
    },
    {
      "cell_type": "markdown",
      "source": [
        "Yes,Positive impact Insights can inform targeted strategies for call optimization."
      ],
      "metadata": {
        "id": "GL8l1tdLp1cl"
      }
    },
    {
      "cell_type": "markdown",
      "source": [
        "**Correlation Heatmap-Correlation Matrix for Numeric Columns(Multivariate)**"
      ],
      "metadata": {
        "id": "NC_X3p0fY2L0"
      }
    },
    {
      "cell_type": "code",
      "source": [
        "# Correlation Heatmap visualization code\n",
        "plt.figure(figsize=(20, 10))  # Adjust the figure size as needed\n",
        "numeric_columns = telecom_df.select_dtypes(include=['float64', 'int64']).columns\n",
        "sns.heatmap(telecom_df[numeric_columns].corr(), cmap='coolwarm', annot=True)\n",
        "plt.title('Correlation Matrix for Numeric Columns')\n",
        "plt.show()"
      ],
      "metadata": {
        "id": "xyC9zolEZNRQ"
      },
      "execution_count": null,
      "outputs": []
    },
    {
      "cell_type": "markdown",
      "source": [
        "##### 1. Why did you pick the specific chart?"
      ],
      "metadata": {
        "id": "UV0SzAkaZNRQ"
      }
    },
    {
      "cell_type": "markdown",
      "source": [
        "The correlation matrix provides an overview of the relationships between variables in the dataset. It helps identify patterns and dependencies."
      ],
      "metadata": {
        "id": "DVPuT8LYZNRQ"
      }
    },
    {
      "cell_type": "markdown",
      "source": [
        "##### 2. What is/are the insight(s) found from the chart?"
      ],
      "metadata": {
        "id": "YPEH6qLeZNRQ"
      }
    },
    {
      "cell_type": "markdown",
      "source": [
        "From the correlation matrix, we can observe the strength and direction of the relationships between different variables. For example, there is a positive correlation between total day minutes and total day charge, indicating that longer calls result in higher charges. Additionally, there is a negative correlation between customer service calls and churn, suggesting that higher customer service calls are associated with lower churn rates."
      ],
      "metadata": {
        "id": "bfSqtnDqZNRR"
      }
    },
    {
      "cell_type": "markdown",
      "source": [
        "####Pair Plot-Pairwise Relationships of Numeric Columns(Multivariate)"
      ],
      "metadata": {
        "id": "q29F0dvdveiT"
      }
    },
    {
      "cell_type": "code",
      "source": [
        "numeric_columns = telecom_df.select_dtypes(include=['float64', 'int64']).columns\n",
        "\n",
        "# Set style and context for improved aesthetics\n",
        "sns.set(style='ticks', font_scale=1.2)\n",
        "\n",
        "# Create the pair plot with customized settings\n",
        "g = sns.pairplot(telecom_df[numeric_columns], diag_kind='kde', plot_kws={'alpha': 0.6, 's': 30}, corner=True)\n",
        "\n",
        "# Customize plot titles and labels\n",
        "g.fig.suptitle('Pairwise Relationships of Numeric Columns', y=1.03, fontsize=16)\n",
        "g.set(xlabel='', ylabel='')\n",
        "\n",
        "# Adjust subplot spacing\n",
        "g.fig.subplots_adjust(top=0.92, bottom=0.08, left=0.08, right=0.92, hspace=0.2, wspace=0.2)\n",
        "\n",
        "# Save the plot as a PNG image\n",
        "g.savefig('pairplot.png', dpi=300)\n",
        "\n",
        "# Show a message indicating the image is saved\n",
        "print(\"Pair plot image saved as 'pairplot.png'\")"
      ],
      "metadata": {
        "id": "JEzjkWrGMLdM"
      },
      "execution_count": null,
      "outputs": []
    },
    {
      "cell_type": "markdown",
      "source": [
        "##### 1. Why did you pick the specific chart?"
      ],
      "metadata": {
        "id": "EXh0U9oCveiU"
      }
    },
    {
      "cell_type": "markdown",
      "source": [
        "The pair plot was chosen because it allows for visual exploration of pairwise relationships between multiple numeric variables, helping to identify potential correlations and patterns in the data."
      ],
      "metadata": {
        "id": "eMmPjTByveiU"
      }
    },
    {
      "cell_type": "markdown",
      "source": [
        "##### 2. What is/are the insight(s) found from the chart?"
      ],
      "metadata": {
        "id": "22aHeOlLveiV"
      }
    },
    {
      "cell_type": "markdown",
      "source": [
        "The pair plot provides insights into the relationships between different numeric variables in the dataset. It helps identify correlations, such as a positive relationship between total day minutes and total day charge, and can reveal patterns or clusters that may exist within the data."
      ],
      "metadata": {
        "id": "uPQ8RGwHveiV"
      }
    },
    {
      "cell_type": "markdown",
      "source": [
        "## **5. Solution to Business Objective**"
      ],
      "metadata": {
        "id": "JcMwzZxoAimU"
      }
    },
    {
      "cell_type": "markdown",
      "source": [
        "#### What do you suggest the client to achieve Business Objective ?\n",
        "Explain Briefly."
      ],
      "metadata": {
        "id": "8G2x9gOozGDZ"
      }
    },
    {
      "cell_type": "markdown",
      "source": [
        "**Solution to Reduce Customer Churn**\n",
        "\n",
        "1. Offer personalized discounts or incentives to customers who are at a higher risk of churning.\n",
        "2. Enhance the quality and reliability of customer service to ensure prompt issue resolution and customer satisfaction.\n",
        "3. Conduct customer surveys and implement improvements based on feedback to address pain points and enhance overall experience.\n",
        "4. Implement a loyalty program to reward long-term customers and encourage their continued loyalty.\n",
        "5. Provide additional value-added services or features that differentiate your offering from competitors.\n",
        "6. Offer flexible pricing plans or options that cater to the diverse needs and budgets of customers.\n",
        "7. Implement targeted marketing campaigns to re-engage inactive or at-risk customers.\n",
        "8. Develop a customer retention team dedicated to monitoring and proactively addressing customer churn.\n",
        "9. Leverage data analytics to identify early warning signs of potential churn and take preventive measures.\n",
        "10. Foster a customer-centric culture within the organization, focusing on building strong relationships and delivering exceptional customer experiences.\n",
        "\n",
        "These strategies can help reduce customer churn by improving customer satisfaction, addressing pain points, and providing added value to retain customers in a highly competitive market."
      ],
      "metadata": {
        "id": "pASKb0qOza21"
      }
    },
    {
      "cell_type": "markdown",
      "source": [
        "# **Conclusion**"
      ],
      "metadata": {
        "id": "gCX9965dhzqZ"
      }
    },
    {
      "cell_type": "markdown",
      "source": [
        "1. Charge fields exhibit a direct and predictable relationship with minute fields, indicating a linear dependency between these variables.\n",
        "\n",
        "2. The area code field and/or the state field display unusual patterns and can be excluded from the analysis without significant impact on the overall results.\n",
        "\n",
        "3. Customers who have opted for the International Plan are observed to have a higher likelihood of churning compared to those who haven't chosen this plan.\n",
        "\n",
        "4. Notably, customers who make four or more customer service calls exhibit a significantly higher churn rate, more than four times that of other customers.\n",
        "\n",
        "5. Customers with elevated day minutes and evening minutes experience a notably higher churn rate when compared to other customers.\n",
        "\n",
        "6. Surprisingly, no apparent correlation between churn and variables such as day calls, evening calls, night calls, international calls, night minutes, international minutes, account length, or voice mail messages has been observed. These variables do not seem to directly influence customer churn in a discernible manner."
      ],
      "metadata": {
        "id": "Fjb1IsQkh3yE"
      }
    },
    {
      "cell_type": "markdown",
      "source": [
        "### ***Hurrah! You have successfully completed your EDA Capstone Project !!!***"
      ],
      "metadata": {
        "id": "gIfDvo9L0UH2"
      }
    }
  ]
}